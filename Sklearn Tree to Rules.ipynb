{
 "cells": [
  {
   "cell_type": "code",
   "execution_count": 3,
   "metadata": {},
   "outputs": [],
   "source": [
    "import pandas as pd\n",
    "import csv\n",
    "from sklearn.tree import _tree\n",
    "from sklearn.tree import DecisionTreeClassifier"
   ]
  },
  {
   "cell_type": "code",
   "execution_count": 2,
   "metadata": {},
   "outputs": [],
   "source": [
    "def tree_to_rules(tree, feature_names):\n",
    "    tree_ = tree.tree_\n",
    "    feature_name = []\n",
    "    for i in tree_.feature:\n",
    "        if i < 0:\n",
    "            feature_name.append(\"undefined!\")\n",
    "        else:\n",
    "            feature_name.append(feature_names[i])\n",
    "    \n",
    "    def recurse(node, current_rule, all_rules):\n",
    "        if tree_.feature[node] != _tree.TREE_UNDEFINED:\n",
    "            name = feature_name[node]\n",
    "            \n",
    "            left_rule = []\n",
    "            left_rule.extend(current_rule)\n",
    "            right_rule = []\n",
    "            right_rule.extend(current_rule)\n",
    "            \n",
    "            left_node_split = name + \"_0\"\n",
    "            left_rule.append(left_node_split)\n",
    "            right_node_split = name + \"_1\"\n",
    "            right_rule.append(right_node_split)\n",
    "            \n",
    "            all_rules = recurse(tree_.children_left[node], left_rule, all_rules)\n",
    "            all_rules = recurse(tree_.children_right[node], right_rule, all_rules)\n",
    "        else:\n",
    "            current_rule.append(tree_.value[node])\n",
    "            all_rules.append(current_rule)\n",
    "            current_rule = []\n",
    "        \n",
    "        return all_rules\n",
    "    \n",
    "    all_rules = recurse(0, [], [])\n",
    "    return all_rules"
   ]
  },
  {
   "cell_type": "code",
   "execution_count": 19,
   "metadata": {},
   "outputs": [
    {
     "name": "stdout",
     "output_type": "stream",
     "text": [
      "[['Overcast_0', 'High_0', 'Weak_0', 'Rainy_0', array([[0., 1.]])], ['Overcast_0', 'High_0', 'Weak_0', 'Rainy_1', array([[1., 0.]])], ['Overcast_0', 'High_0', 'Weak_1', array([[0., 3.]])], ['Overcast_0', 'High_1', 'Sunny_0', 'Weak_0', array([[1., 0.]])], ['Overcast_0', 'High_1', 'Sunny_0', 'Weak_1', array([[0., 1.]])], ['Overcast_0', 'High_1', 'Sunny_1', array([[3., 0.]])], ['Overcast_1', array([[0., 4.]])]]\n"
     ]
    }
   ],
   "source": [
    "data = pd.read_csv(\"PlayTennis.csv\")\n",
    "data.columns = data.columns.astype(str)\n",
    "data_x = data.drop(data.columns[-1], axis=1)\n",
    "data_y = data[data.columns[-1]]\n",
    "decision_tree = DecisionTreeClassifier(random_state=42, criterion='entropy')\n",
    "decision_tree.fit(data_x, data_y)\n",
    "rules = tree_to_rules(decision_tree, data_x.columns)\n",
    "print(rules)"
   ]
  },
  {
   "cell_type": "code",
   "execution_count": 14,
   "metadata": {},
   "outputs": [
    {
     "name": "stdout",
     "output_type": "stream",
     "text": [
      "12\n"
     ]
    }
   ],
   "source": [
    "print(len(data.columns))"
   ]
  }
 ],
 "metadata": {
  "kernelspec": {
   "display_name": "Python 3",
   "language": "python",
   "name": "python3"
  },
  "language_info": {
   "codemirror_mode": {
    "name": "ipython",
    "version": 3
   },
   "file_extension": ".py",
   "mimetype": "text/x-python",
   "name": "python",
   "nbconvert_exporter": "python",
   "pygments_lexer": "ipython3",
   "version": "3.6.8"
  }
 },
 "nbformat": 4,
 "nbformat_minor": 2
}
